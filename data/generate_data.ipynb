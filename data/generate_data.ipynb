{
 "cells": [
  {
   "cell_type": "markdown",
   "metadata": {},
   "source": [
    "# Read data from .dat"
   ]
  },
  {
   "cell_type": "code",
   "execution_count": 38,
   "metadata": {},
   "outputs": [],
   "source": [
    "import pandas as pd\n",
    "book_name_words = pd.read_csv('book_name_words.dat', header=None, names=['Word'])\n",
    "book_name_words = book_name_words['Word'].tolist()\n",
    "\n",
    "last_names = pd.read_csv('last_names.dat', header=None, names=['Last Name'])\n",
    "last_names = last_names['Last Name'].tolist()   \n",
    "\n",
    "first_names = pd.read_csv('first_names.dat', header=None, names=['First Name'])\n",
    "first_names = first_names['First Name'].tolist()\n",
    "\n",
    "book_types = pd.read_csv('book_types.dat', header=None, names=['Book Type'])\n",
    "book_types = book_types['Book Type'].tolist()\n",
    "\n",
    "publishers_names = pd.read_csv('publishers.dat', header=None, names=['Publisher'])\n",
    "publishers_names = publishers_names['Publisher'].tolist()"
   ]
  },
  {
   "cell_type": "code",
   "execution_count": 39,
   "metadata": {},
   "outputs": [],
   "source": [
    "import random\n",
    "import pandas as pd\n",
    "from datetime import datetime, timedelta\n",
    "\n",
    "def random_date(start, end):\n",
    "    start_date = datetime.strptime(start, \"%Y-%m-%d\")\n",
    "    end_date = datetime.strptime(end, \"%Y-%m-%d\")\n",
    "    delta = end_date - start_date\n",
    "    random_days = random.randint(0, delta.days)\n",
    "    return (start_date + timedelta(days=random_days)).strftime(\"%Y-%m-%d\")"
   ]
  },
  {
   "cell_type": "markdown",
   "metadata": {},
   "source": [
    "# Generate data for books.csv"
   ]
  },
  {
   "cell_type": "code",
   "execution_count": 40,
   "metadata": {},
   "outputs": [],
   "source": [
    "def generate_books_csv(n):\n",
    "    books_data = [\n",
    "        {\n",
    "            \"book_id\": i + 1,\n",
    "            \"name\": \" \".join(\n",
    "                random.sample(\n",
    "                    book_name_words,\n",
    "                    k=random.randint(2, 5),\n",
    "                )\n",
    "            ),\n",
    "            \"author\": f\"Author {random.choice(first_names)} {random.choice(last_names)}\",\n",
    "            \"publish\": random.choice(publishers_names),\n",
    "            \"ISBN\": f\"{random.randint(1000000000, 9999999999)}\",\n",
    "            \"language\": random.choice(\n",
    "                [\"English\", \"Chinese\", \"French\", \"Spanish\", \"Russian\"]\n",
    "            ),\n",
    "            \"price\": round(random.uniform(10, 200), 2),\n",
    "            \"pub_date\": random_date(\"1900-01-01\", \"2025-01-01\"),\n",
    "            \"class_id\": random.randint(1, len(book_types)+1),\n",
    "            \"quantity\": random.randint(1, 20),\n",
    "        }\n",
    "        for i in range(1, n + 1)\n",
    "    ]\n",
    "    df = pd.DataFrame(books_data)\n",
    "    df.to_csv(\"books.csv\", index=False)\n"
   ]
  },
  {
   "cell_type": "markdown",
   "metadata": {},
   "source": [
    "# Generate data for class_info.csv"
   ]
  },
  {
   "cell_type": "code",
   "execution_count": 41,
   "metadata": {},
   "outputs": [],
   "source": [
    "def generate_class_info_csv():\n",
    "    class_info_data = [ \n",
    "        {\"class_id\": i + 1, \"class_name\": book_types[i]} for i in range(len(book_types))\n",
    "    ]\n",
    "    class_info_df = pd.DataFrame(class_info_data)\n",
    "    class_info_df.to_csv(\"class_info.csv\", index=False)\n"
   ]
  },
  {
   "cell_type": "markdown",
   "metadata": {},
   "source": [
    "# "
   ]
  },
  {
   "cell_type": "markdown",
   "metadata": {},
   "source": [
    "# Generate data for users.csv"
   ]
  },
  {
   "cell_type": "code",
   "execution_count": 42,
   "metadata": {},
   "outputs": [],
   "source": [
    "def generate_users_csv(n):\n",
    "    users_data = [\n",
    "        {\n",
    "            \"user_id\": i + 1,\n",
    "            \"username\": random.choice(first_names) + random.choice(last_names),\n",
    "            \"password\": \"password\",\n",
    "            \"role\": random.choice([\"admin\", \"user\"]),\n",
    "        }\n",
    "        for i in range(n)\n",
    "    ]\n",
    "    df = pd.DataFrame(users_data)\n",
    "    df.to_csv(\"users.csv\", index=False)\n"
   ]
  },
  {
   "cell_type": "markdown",
   "metadata": {},
   "source": [
    "# Generate data for rentals.csv"
   ]
  },
  {
   "cell_type": "code",
   "execution_count": 43,
   "metadata": {},
   "outputs": [],
   "source": [
    "def generate_rentals_csv(n):\n",
    "    rentals_data = [\n",
    "        {\n",
    "            \"rental_id\": i + 1,\n",
    "            \"book_id\": random.randint(1, n),\n",
    "            \"user_id\": random.randint(1, n),\n",
    "            \"rent_date\": random_date(\"1900-01-01\", \"2025-01-01\"),\n",
    "            \"return_date\": random_date(\"1900-01-01\", \"2025-01-01\"),\n",
    "        } for i in range(n)\n",
    "    ]\n",
    "    df = pd.DataFrame(rentals_data)\n",
    "    df.to_csv(\"rentals.csv\", index=False)"
   ]
  },
  {
   "cell_type": "code",
   "execution_count": 44,
   "metadata": {},
   "outputs": [],
   "source": [
    "generate_books_csv(100)\n",
    "generate_users_csv(100)\n",
    "generate_rentals_csv(100)\n",
    "generate_class_info_csv()"
   ]
  }
 ],
 "metadata": {
  "kernelspec": {
   "display_name": "base",
   "language": "python",
   "name": "python3"
  },
  "language_info": {
   "codemirror_mode": {
    "name": "ipython",
    "version": 3
   },
   "file_extension": ".py",
   "mimetype": "text/x-python",
   "name": "python",
   "nbconvert_exporter": "python",
   "pygments_lexer": "ipython3",
   "version": "3.11.7"
  }
 },
 "nbformat": 4,
 "nbformat_minor": 2
}
